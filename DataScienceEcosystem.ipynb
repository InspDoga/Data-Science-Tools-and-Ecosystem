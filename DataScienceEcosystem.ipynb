{
 "cells": [
  {
   "cell_type": "markdown",
   "id": "c212cd0e-6f25-4c9d-9866-a7b4e330e4f2",
   "metadata": {
    "tags": []
   },
   "source": [
    "# Data Science Tools and Ecosystem"
   ]
  },
  {
   "cell_type": "markdown",
   "id": "5139ce11-115a-4f7d-a729-149d01fed4ed",
   "metadata": {},
   "source": [
    "## Author\n",
    "U.Sai Srinivas"
   ]
  },
  {
   "cell_type": "markdown",
   "id": "2a699dda-15ef-4137-9a99-231d31572a0d",
   "metadata": {},
   "source": [
    "In this notebook, Data Science Tools and Ecosystem are summarized.\n"
   ]
  },
  {
   "cell_type": "markdown",
   "id": "e550398c-a164-4e62-8325-2e54fd57c722",
   "metadata": {},
   "source": [
    "__Objectives:__\n",
    "\n",
    "- List popular languages for Data Science\n",
    "- List popular libraries for Data Science\n",
    "- Convert time from minutes to hours"
   ]
  },
  {
   "cell_type": "markdown",
   "id": "35f39074-a8f4-48af-a609-e7674c2e0cba",
   "metadata": {},
   "source": [
    "## Some of the popular languages that Data Scientists use are:\n",
    "1. R\n",
    "2. Python\n",
    "3. SQL\n",
    "4. Julia\n",
    "5. Scala\n"
   ]
  },
  {
   "cell_type": "markdown",
   "id": "d9160085-9a1b-4d89-a9dd-16f59578276e",
   "metadata": {},
   "source": [
    "### Some of the commonly used libraries used by Data Scientists include:\n",
    "1. Pandas\n",
    "2.  Dplyr\n",
    "3.  ggplot "
   ]
  },
  {
   "cell_type": "markdown",
   "id": "54ecd219-23f8-4e6d-8d98-bc5c56a736c4",
   "metadata": {},
   "source": [
    " |Data Science Tools| \n",
    " |------------------|\n",
    " |Git|\n",
    " |Apache Spark|\n",
    " |TensorFlow|\n",
    " "
   ]
  },
  {
   "cell_type": "markdown",
   "id": "7ead7606-5b1c-4116-8f86-a4f1d51b967a",
   "metadata": {},
   "source": [
    "### Below are a few examples of evaluating arithmetic expressions in Python"
   ]
  },
  {
   "cell_type": "markdown",
   "id": "bcd9c0a1-5707-4fad-9d8c-274f6208e801",
   "metadata": {},
   "source": [
    " This a simple arithmetic expression to mutiply then add integers\n",
    " \n",
    "\n",
    " \n"
   ]
  },
  {
   "cell_type": "code",
   "execution_count": 2,
   "id": "c29e6297-723c-47fb-b94f-5faf4005bebc",
   "metadata": {},
   "outputs": [
    {
     "name": "stdout",
     "output_type": "stream",
     "text": [
      "17\n"
     ]
    }
   ],
   "source": [
    " p = (3*4)+5\n",
    "print (p)"
   ]
  },
  {
   "cell_type": "code",
   "execution_count": 3,
   "id": "590a17bf-436e-421b-a288-dd34b2a5ca73",
   "metadata": {},
   "outputs": [
    {
     "name": "stdout",
     "output_type": "stream",
     "text": [
      "3.3333333333333335\n"
     ]
    }
   ],
   "source": [
    "# This will convert 200 minutes to hours by diving by 60\n",
    "p = 200/60 \n",
    "print (p)"
   ]
  },
  {
   "cell_type": "code",
   "execution_count": null,
   "id": "f13f36d5-a11a-417a-986b-93b583b2c80e",
   "metadata": {},
   "outputs": [],
   "source": []
  }
 ],
 "metadata": {
  "kernelspec": {
   "display_name": "Python 3 (ipykernel)",
   "language": "python",
   "name": "python3"
  },
  "language_info": {
   "codemirror_mode": {
    "name": "ipython",
    "version": 3
   },
   "file_extension": ".py",
   "mimetype": "text/x-python",
   "name": "python",
   "nbconvert_exporter": "python",
   "pygments_lexer": "ipython3",
   "version": "3.9.7"
  }
 },
 "nbformat": 4,
 "nbformat_minor": 5
}
